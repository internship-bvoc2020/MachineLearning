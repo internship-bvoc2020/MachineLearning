{
  "nbformat": 4,
  "nbformat_minor": 0,
  "metadata": {
    "colab": {
      "name": "Correlation.ipynb",
      "provenance": [],
      "collapsed_sections": [],
      "authorship_tag": "ABX9TyO+owmtTPTbSoNRXW5LgQNF",
      "include_colab_link": true
    },
    "kernelspec": {
      "name": "python3",
      "display_name": "Python 3"
    }
  },
  "cells": [
    {
      "cell_type": "markdown",
      "metadata": {
        "id": "view-in-github",
        "colab_type": "text"
      },
      "source": [
        "<a href=\"https://colab.research.google.com/github/internship-bvoc2020/MachineLearning/blob/master/Correlation.ipynb\" target=\"_parent\"><img src=\"https://colab.research.google.com/assets/colab-badge.svg\" alt=\"Open In Colab\"/></a>"
      ]
    },
    {
      "cell_type": "code",
      "metadata": {
        "id": "GVF76w_GXgHB",
        "colab_type": "code",
        "colab": {}
      },
      "source": [
        "import pandas as pd\n",
        "import numpy as np\n",
        "from sklearn.preprocessing import LabelEncoder\n",
        "from sklearn.preprocessing import OneHotEncoder\n",
        "import matplotlib.pyplot as plt\n",
        "import seaborn as sns"
      ],
      "execution_count": 0,
      "outputs": []
    },
    {
      "cell_type": "code",
      "metadata": {
        "id": "eXV7TpdEZmSU",
        "colab_type": "code",
        "colab": {}
      },
      "source": [
        "df = pd.read_csv(\"employee_data.csv\",sep=\"\\t\")"
      ],
      "execution_count": 0,
      "outputs": []
    },
    {
      "cell_type": "code",
      "metadata": {
        "id": "o8n8fkTyelFi",
        "colab_type": "code",
        "colab": {}
      },
      "source": [
        "df.head()"
      ],
      "execution_count": 0,
      "outputs": []
    },
    {
      "cell_type": "code",
      "metadata": {
        "id": "SMCXjIRueodY",
        "colab_type": "code",
        "colab": {}
      },
      "source": [
        "df.shape"
      ],
      "execution_count": 0,
      "outputs": []
    },
    {
      "cell_type": "code",
      "metadata": {
        "id": "vhZ4Uyvneq7x",
        "colab_type": "code",
        "colab": {}
      },
      "source": [
        "df.dtypes"
      ],
      "execution_count": 0,
      "outputs": []
    },
    {
      "cell_type": "code",
      "metadata": {
        "id": "fo19HVvBe4Z4",
        "colab_type": "code",
        "colab": {}
      },
      "source": [
        "df.corr()"
      ],
      "execution_count": 0,
      "outputs": []
    },
    {
      "cell_type": "markdown",
      "metadata": {
        "id": "PyQtx_Lbe53c",
        "colab_type": "text"
      },
      "source": [
        "**Continous Variables**"
      ]
    },
    {
      "cell_type": "code",
      "metadata": {
        "id": "RRMqeOnBev9s",
        "colab_type": "code",
        "colab": {}
      },
      "source": [
        "num_cols = df._get_numeric_data().columns\n",
        "num_cols"
      ],
      "execution_count": 0,
      "outputs": []
    },
    {
      "cell_type": "code",
      "metadata": {
        "id": "ZzWe_jRse0IY",
        "colab_type": "code",
        "colab": {}
      },
      "source": [
        "#Continous\n",
        "for i in num_cols:\n",
        "  print(str(i)+'\\t'+str(len(df[i].unique())))"
      ],
      "execution_count": 0,
      "outputs": []
    },
    {
      "cell_type": "markdown",
      "metadata": {
        "id": "I20jYOEsfDZq",
        "colab_type": "text"
      },
      "source": [
        "**Categorical Variables**"
      ]
    },
    {
      "cell_type": "code",
      "metadata": {
        "id": "QJ_7N38VfJ7I",
        "colab_type": "code",
        "colab": {}
      },
      "source": [
        "for j in list(set(df.columns) - set(num_cols)):\n",
        "  print(str(j)+'\\t'+str(len(df[j].unique())))"
      ],
      "execution_count": 0,
      "outputs": []
    },
    {
      "cell_type": "code",
      "metadata": {
        "id": "5ZaHcniffJ3-",
        "colab_type": "code",
        "colab": {}
      },
      "source": [
        "df['relationship'].unique()"
      ],
      "execution_count": 0,
      "outputs": []
    },
    {
      "cell_type": "markdown",
      "metadata": {
        "id": "u0YaHh25fadx",
        "colab_type": "text"
      },
      "source": [
        "**Why Encoding is required ?**\n",
        "\n",
        "Few algorithms such as CAT Boost, decision-trees etc can handle categorical values (Textual) very well but most of the algorithms expect numerical values to achieve state-of-the-art results.\n",
        "\n",
        "Infact , most of the algorithms work better with numerical inputs\n",
        "\n",
        "**Types of Encoding**\n",
        "\n",
        "1.   Label-Encoder : \n",
        "2.   One-Hot-Encoder :\n",
        "\n"
      ]
    },
    {
      "cell_type": "markdown",
      "metadata": {
        "id": "WEGSxG2khmzD",
        "colab_type": "text"
      },
      "source": [
        "### Label Encoding \n",
        "It involves converting each value in a column to a number\n",
        "\n",
        "https://scikit-learn.org/stable/modules/generated/sklearn.preprocessing.LabelEncoder.html"
      ]
    },
    {
      "cell_type": "code",
      "metadata": {
        "id": "f0ZfVOytmP4o",
        "colab_type": "code",
        "colab": {}
      },
      "source": [
        "df_cat = df.copy()"
      ],
      "execution_count": 0,
      "outputs": []
    },
    {
      "cell_type": "code",
      "metadata": {
        "id": "tpdNCGZQh--q",
        "colab_type": "code",
        "colab": {}
      },
      "source": [
        "#Fit- Transform is followed for each method in scikit Learn where fit implies fitting the data into the method \n",
        "# and then transforming it based on method functionality\n",
        "\n",
        "le = LabelEncoder()\n",
        "df_cat['enc_relationship'] = le.fit_transform(df_cat['relationship'])"
      ],
      "execution_count": 0,
      "outputs": []
    },
    {
      "cell_type": "code",
      "metadata": {
        "id": "ko3LJAt_h-7L",
        "colab_type": "code",
        "colab": {}
      },
      "source": [
        "df_cat.groupby(['relationship','enc_relationship']).size().reset_index().rename(columns={0:'count'})"
      ],
      "execution_count": 0,
      "outputs": []
    },
    {
      "cell_type": "code",
      "metadata": {
        "id": "b2NO8AyPh-4h",
        "colab_type": "code",
        "colab": {}
      },
      "source": [
        "df_cat = df_cat.drop(columns=['enc_relationship'])\n",
        "for j in list(set(df.columns) - set(num_cols)):\n",
        "  df_cat['enc_'+str(j)] = le.fit_transform(df_cat[j])"
      ],
      "execution_count": 0,
      "outputs": []
    },
    {
      "cell_type": "code",
      "metadata": {
        "id": "hjxIstPilsJF",
        "colab_type": "code",
        "colab": {}
      },
      "source": [
        "df_cat.columns"
      ],
      "execution_count": 0,
      "outputs": []
    },
    {
      "cell_type": "code",
      "metadata": {
        "id": "SFHF3o7Ulvpf",
        "colab_type": "code",
        "colab": {}
      },
      "source": [
        "df_cat.groupby(['education','enc_education']).size().reset_index().rename(columns={0:'count'})"
      ],
      "execution_count": 0,
      "outputs": []
    },
    {
      "cell_type": "code",
      "metadata": {
        "id": "HMc-s4LjmMFu",
        "colab_type": "code",
        "colab": {}
      },
      "source": [
        "df_cat = df_cat.drop(columns = list(set(df.columns) - set(num_cols)))\n",
        "df_cat.columns"
      ],
      "execution_count": 0,
      "outputs": []
    },
    {
      "cell_type": "code",
      "metadata": {
        "id": "YPLievmgngoS",
        "colab_type": "code",
        "colab": {}
      },
      "source": [
        "df_cat.head()"
      ],
      "execution_count": 0,
      "outputs": []
    },
    {
      "cell_type": "markdown",
      "metadata": {
        "id": "I6ng1gZuyJdl",
        "colab_type": "text"
      },
      "source": [
        "### Correlation\n",
        "\n",
        "Depicts relationship between two or more variables within a dataset\n",
        "\n",
        "\n",
        "\n",
        "*   It is a degree of measure which can be Positive , Negative or Unrelated (No effect)\n",
        "*   *Positive Correlation* : implies as  increase (or decrease) in one variable, leads to  a simultaneous increase (decrease) in the other variable\n",
        "*   *Negative Correlation* : is a type where if there is a decrease (or increase) in one variable, then there is a simultaneous increase (or decrease) in the other variables.Inverse behaviour in variables\n",
        "*  *Uncorrelated* : When both variables have no corresponding impact on each other on increase or decrease.They are supposed to be mutually exclusive\n",
        "\n",
        "**Correlation Coefficient** : also known as Pearson Correlation co-efficient \n",
        "\n",
        "\n",
        "*   Ranges from -1 to +1\n",
        "*   -ve values imply negative correlation with , +ve values positive correlation and 0 imples uncorrelated\n",
        "\n",
        "Pearson Correlation only works on Numeric datatype\n",
        "\n"
      ]
    },
    {
      "cell_type": "markdown",
      "metadata": {
        "id": "egh8ksYU7X74",
        "colab_type": "text"
      },
      "source": [
        "**Correlation on Label Encoded Dataframe**"
      ]
    },
    {
      "cell_type": "code",
      "metadata": {
        "id": "KaQbSu3LfRD6",
        "colab_type": "code",
        "colab": {
          "base_uri": "https://localhost:8080/",
          "height": 195
        },
        "outputId": "5fe7101d-50a5-4dbe-ca80-8f3b2693c445"
      },
      "source": [
        "corr = df_cat.corr()\n",
        "corr.head()"
      ],
      "execution_count": 51,
      "outputs": [
        {
          "output_type": "execute_result",
          "data": {
            "text/html": [
              "<div>\n",
              "<style scoped>\n",
              "    .dataframe tbody tr th:only-of-type {\n",
              "        vertical-align: middle;\n",
              "    }\n",
              "\n",
              "    .dataframe tbody tr th {\n",
              "        vertical-align: top;\n",
              "    }\n",
              "\n",
              "    .dataframe thead th {\n",
              "        text-align: right;\n",
              "    }\n",
              "</style>\n",
              "<table border=\"1\" class=\"dataframe\">\n",
              "  <thead>\n",
              "    <tr style=\"text-align: right;\">\n",
              "      <th></th>\n",
              "      <th>age</th>\n",
              "      <th>salary</th>\n",
              "      <th>hours_per_week</th>\n",
              "      <th>enc_employment_type</th>\n",
              "      <th>enc_relationship</th>\n",
              "      <th>enc_Gender</th>\n",
              "      <th>enc_education</th>\n",
              "      <th>enc_marital-status</th>\n",
              "    </tr>\n",
              "  </thead>\n",
              "  <tbody>\n",
              "    <tr>\n",
              "      <th>age</th>\n",
              "      <td>1.000000</td>\n",
              "      <td>-0.115232</td>\n",
              "      <td>0.084987</td>\n",
              "      <td>0.029712</td>\n",
              "      <td>-0.260360</td>\n",
              "      <td>0.094576</td>\n",
              "      <td>-0.049660</td>\n",
              "      <td>-0.258981</td>\n",
              "    </tr>\n",
              "    <tr>\n",
              "      <th>salary</th>\n",
              "      <td>-0.115232</td>\n",
              "      <td>1.000000</td>\n",
              "      <td>-0.039744</td>\n",
              "      <td>0.018486</td>\n",
              "      <td>0.067417</td>\n",
              "      <td>-0.003753</td>\n",
              "      <td>-0.034706</td>\n",
              "      <td>0.080250</td>\n",
              "    </tr>\n",
              "    <tr>\n",
              "      <th>hours_per_week</th>\n",
              "      <td>0.084987</td>\n",
              "      <td>-0.039744</td>\n",
              "      <td>1.000000</td>\n",
              "      <td>0.146897</td>\n",
              "      <td>-0.256502</td>\n",
              "      <td>0.208244</td>\n",
              "      <td>0.127367</td>\n",
              "      <td>-0.248255</td>\n",
              "    </tr>\n",
              "    <tr>\n",
              "      <th>enc_employment_type</th>\n",
              "      <td>0.029712</td>\n",
              "      <td>0.018486</td>\n",
              "      <td>0.146897</td>\n",
              "      <td>1.000000</td>\n",
              "      <td>-0.136794</td>\n",
              "      <td>0.105727</td>\n",
              "      <td>0.056378</td>\n",
              "      <td>-0.081510</td>\n",
              "    </tr>\n",
              "    <tr>\n",
              "      <th>enc_relationship</th>\n",
              "      <td>-0.260360</td>\n",
              "      <td>0.067417</td>\n",
              "      <td>-0.256502</td>\n",
              "      <td>-0.136794</td>\n",
              "      <td>1.000000</td>\n",
              "      <td>-0.559848</td>\n",
              "      <td>-0.008405</td>\n",
              "      <td>0.167292</td>\n",
              "    </tr>\n",
              "  </tbody>\n",
              "</table>\n",
              "</div>"
            ],
            "text/plain": [
              "                          age    salary  ...  enc_education  enc_marital-status\n",
              "age                  1.000000 -0.115232  ...      -0.049660           -0.258981\n",
              "salary              -0.115232  1.000000  ...      -0.034706            0.080250\n",
              "hours_per_week       0.084987 -0.039744  ...       0.127367           -0.248255\n",
              "enc_employment_type  0.029712  0.018486  ...       0.056378           -0.081510\n",
              "enc_relationship    -0.260360  0.067417  ...      -0.008405            0.167292\n",
              "\n",
              "[5 rows x 8 columns]"
            ]
          },
          "metadata": {
            "tags": []
          },
          "execution_count": 51
        }
      ]
    },
    {
      "cell_type": "code",
      "metadata": {
        "id": "i1AVRt-PgaMz",
        "colab_type": "code",
        "colab": {
          "base_uri": "https://localhost:8080/",
          "height": 640
        },
        "outputId": "63e37843-465f-4a4e-fd34-464a9118c3f1"
      },
      "source": [
        "# Generate a mask for the upper triangle\n",
        "mask = np.zeros_like(corr, dtype=np.bool)\n",
        "mask[np.triu_indices_from(mask)] = True\n",
        "\n",
        "# Set up the matplotlib figure\n",
        "f, ax = plt.subplots(figsize=(11, 9))\n",
        "\n",
        "# Generate a custom diverging colormap\n",
        "cmap = sns.diverging_palette(220, 10, as_cmap=True)\n",
        "\n",
        "\n",
        "# Draw the heatmap with the mask and correct aspect ratio( https://seaborn.pydata.org/generated/seaborn.heatmap.html )\n",
        "svm = sns.heatmap(corr, mask=mask, cmap=cmap, center=0,\n",
        "            square=True, linewidths=.5, cbar_kws={\"shrink\": .5})\n",
        "figure = svm.get_figure()"
      ],
      "execution_count": 52,
      "outputs": [
        {
          "output_type": "display_data",
          "data": {
            "image/png": "[encoded data removed]",
            "text/plain": [
              "<Figure size 792x648 with 2 Axes>"
            ]
          },
          "metadata": {
            "tags": [],
            "needs_background": "light"
          }
        }
      ]
    },
    {
      "cell_type": "markdown",
      "metadata": {
        "id": "HFKdiibMh0Dx",
        "colab_type": "text"
      },
      "source": [
        "### Issues with Categorical Encoding \n",
        "\n",
        "Adds an inherent bias of ranking in the encoding values of a Feature , usually interpreted by the algorithm 0<1<2<3.\n",
        "\n",
        "We should always try to remove any inherent bias being fed into the algorithm ,rather let algorithm identify the patterns if they exist\n",
        "\n",
        "\n",
        "### One Hot Encoding (OHE)\n",
        "\n",
        "Involves converting each value in a column to a unique number\n",
        "each category value is converted into a new column and assigned a 1 or 0 (notation for true/false) value to the column\n",
        "\n",
        "This in turn removes the shortcomings of Label Encoder by not inherently feeding an algortihm with an encoded rank system \n",
        "\n",
        "There are couple of methods to perform OHE \n",
        "\n",
        "\n",
        "1.   One Hot Encoding : Sklearn Preprocessing library \n",
        "\n",
        "(https://scikit-learn.org/stable/modules/generated/sklearn.preprocessing.OneHotEncoder.html)\n",
        "2.   Pandas Get Dummies : Native method of Pandas library\n",
        "\n",
        "https://pandas.pydata.org/pandas-docs/stable/reference/api/pandas.get_dummies.html\n",
        "\n",
        "\n"
      ]
    },
    {
      "cell_type": "code",
      "metadata": {
        "id": "qJGDZJm4sdLe",
        "colab_type": "code",
        "colab": {}
      },
      "source": [
        "df_ohe = df.copy()"
      ],
      "execution_count": 0,
      "outputs": []
    },
    {
      "cell_type": "code",
      "metadata": {
        "id": "zuetuG7_qGBv",
        "colab_type": "code",
        "colab": {}
      },
      "source": [
        "ohe = OneHotEncoder(handle_unknown='ignore')"
      ],
      "execution_count": 0,
      "outputs": []
    },
    {
      "cell_type": "code",
      "metadata": {
        "id": "7JBshJDdsraS",
        "colab_type": "code",
        "colab": {}
      },
      "source": [
        "enc_rel = pd.DataFrame(ohe.fit_transform(df_ohe[['relationship']]).toarray())"
      ],
      "execution_count": 0,
      "outputs": []
    },
    {
      "cell_type": "code",
      "metadata": {
        "id": "4DNRDOSDs5hK",
        "colab_type": "code",
        "colab": {}
      },
      "source": [
        "enc_rel"
      ],
      "execution_count": 0,
      "outputs": []
    },
    {
      "cell_type": "code",
      "metadata": {
        "id": "vqsjp1leyf00",
        "colab_type": "code",
        "colab": {}
      },
      "source": [
        "enc_rel = enc_rel.add_prefix('relationship_')\n",
        "enc_rel"
      ],
      "execution_count": 0,
      "outputs": []
    },
    {
      "cell_type": "code",
      "metadata": {
        "id": "MXQT5q3SuFSC",
        "colab_type": "code",
        "colab": {}
      },
      "source": [
        "df_ohe = df_ohe.join(enc_rel)\n",
        "df_ohe.head(10)"
      ],
      "execution_count": 0,
      "outputs": []
    },
    {
      "cell_type": "markdown",
      "metadata": {
        "id": "mI8bJ1va0BBp",
        "colab_type": "text"
      },
      "source": [
        "**Doing the OHE programmatically for all Categorical variables**"
      ]
    },
    {
      "cell_type": "code",
      "metadata": {
        "colab_type": "code",
        "id": "kIs2oog0xqy6",
        "colab": {}
      },
      "source": [
        "df_ohe = df_ohe = df.copy()\n",
        "for j in list(set(df.columns) - set(num_cols)):\n",
        "  enc_rel = pd.DataFrame(ohe.fit_transform(df_ohe[[j]]).toarray())\n",
        "  enc_rel = enc_rel.add_prefix(str(j)+'_')\n",
        "  df_ohe = df_ohe.join(enc_rel)"
      ],
      "execution_count": 0,
      "outputs": []
    },
    {
      "cell_type": "code",
      "metadata": {
        "id": "-uaXJVPMz3Fw",
        "colab_type": "code",
        "colab": {}
      },
      "source": [
        "df_ohe.columns"
      ],
      "execution_count": 0,
      "outputs": []
    },
    {
      "cell_type": "code",
      "metadata": {
        "id": "DhZu3HSExgsf",
        "colab_type": "code",
        "colab": {}
      },
      "source": [
        "df_ohe = df_ohe.drop(columns = list(set(df.columns) - set(num_cols)))\n",
        "df_ohe.columns"
      ],
      "execution_count": 0,
      "outputs": []
    },
    {
      "cell_type": "code",
      "metadata": {
        "id": "FF7NzsyJ0Toe",
        "colab_type": "code",
        "colab": {}
      },
      "source": [
        "df_ohe.head()"
      ],
      "execution_count": 0,
      "outputs": []
    },
    {
      "cell_type": "code",
      "metadata": {
        "id": "RWlxlTxYJDvc",
        "colab_type": "code",
        "colab": {}
      },
      "source": [
        "df_ohe.shape"
      ],
      "execution_count": 0,
      "outputs": []
    },
    {
      "cell_type": "markdown",
      "metadata": {
        "id": "c9byHOq4u_P2",
        "colab_type": "text"
      },
      "source": [
        "**Performing OHE using Pandas Dummies**\n",
        "\n",
        "Pandas Dummies has multiple advantages over sklearn OneHotEncoder\n",
        "\n",
        "\n",
        "\n",
        "*   It takes each value of the categorical column and uses that as Encoded Column Header\n",
        "*   It removes the categorical column automatically post OneHotEncoding\n",
        "\n",
        "*   OHE columns are by default joined to original dataframe and thus no join operation needed\n",
        "\n",
        "\n",
        "\n",
        "\n"
      ]
    },
    {
      "cell_type": "code",
      "metadata": {
        "id": "7cyETzUv0_Ij",
        "colab_type": "code",
        "colab": {}
      },
      "source": [
        "df_ohe = df.copy()"
      ],
      "execution_count": 0,
      "outputs": []
    },
    {
      "cell_type": "code",
      "metadata": {
        "id": "Trc6UyMZ2Rn1",
        "colab_type": "code",
        "colab": {}
      },
      "source": [
        " enc_rel = pd.get_dummies(df_ohe, columns=['relationship'], prefix=['relationship'] ) "
      ],
      "execution_count": 0,
      "outputs": []
    },
    {
      "cell_type": "code",
      "metadata": {
        "id": "vg3ZbHuG2XcK",
        "colab_type": "code",
        "colab": {}
      },
      "source": [
        "enc_rel"
      ],
      "execution_count": 0,
      "outputs": []
    },
    {
      "cell_type": "code",
      "metadata": {
        "id": "IGnVrHkg1tm_",
        "colab_type": "code",
        "colab": {}
      },
      "source": [
        "df_ohe = df.copy()\n",
        "for j in list(set(df.columns) - set(num_cols)): \n",
        "  df_ohe = pd.get_dummies(df_ohe, columns=[j], prefix=[j] )\n"
      ],
      "execution_count": 0,
      "outputs": []
    },
    {
      "cell_type": "code",
      "metadata": {
        "id": "lBt4-_UT2vqd",
        "colab_type": "code",
        "colab": {}
      },
      "source": [
        "df_ohe.columns"
      ],
      "execution_count": 0,
      "outputs": []
    },
    {
      "cell_type": "code",
      "metadata": {
        "id": "ZoVR-a1U3tjj",
        "colab_type": "code",
        "colab": {}
      },
      "source": [
        "df_ohe.head()"
      ],
      "execution_count": 0,
      "outputs": []
    },
    {
      "cell_type": "code",
      "metadata": {
        "id": "dkn_p2pyKmUz",
        "colab_type": "code",
        "colab": {}
      },
      "source": [
        "df_ohe.shape"
      ],
      "execution_count": 0,
      "outputs": []
    },
    {
      "cell_type": "markdown",
      "metadata": {
        "id": "4pUZdf-I5Ac7",
        "colab_type": "text"
      },
      "source": [
        "**Correlation Heatmap on One Hot Encoded dataframe**"
      ]
    },
    {
      "cell_type": "code",
      "metadata": {
        "id": "zgaMKB3U_RAu",
        "colab_type": "code",
        "colab": {
          "base_uri": "https://localhost:8080/",
          "height": 316
        },
        "outputId": "b34d6881-27d5-43ea-e5bd-73e609711fec"
      },
      "source": [
        "df_ohe.corr().head()"
      ],
      "execution_count": 53,
      "outputs": [
        {
          "output_type": "execute_result",
          "data": {
            "text/html": [
              "<div>\n",
              "<style scoped>\n",
              "    .dataframe tbody tr th:only-of-type {\n",
              "        vertical-align: middle;\n",
              "    }\n",
              "\n",
              "    .dataframe tbody tr th {\n",
              "        vertical-align: top;\n",
              "    }\n",
              "\n",
              "    .dataframe thead th {\n",
              "        text-align: right;\n",
              "    }\n",
              "</style>\n",
              "<table border=\"1\" class=\"dataframe\">\n",
              "  <thead>\n",
              "    <tr style=\"text-align: right;\">\n",
              "      <th></th>\n",
              "      <th>age</th>\n",
              "      <th>salary</th>\n",
              "      <th>hours_per_week</th>\n",
              "      <th>employment_type_ ?</th>\n",
              "      <th>employment_type_ Federal-gov</th>\n",
              "      <th>employment_type_ Local-gov</th>\n",
              "      <th>employment_type_ Private</th>\n",
              "      <th>employment_type_ Self-emp-inc</th>\n",
              "      <th>employment_type_ Self-emp-not-inc</th>\n",
              "      <th>employment_type_ State-gov</th>\n",
              "      <th>relationship_ Husband</th>\n",
              "      <th>relationship_ Not-in-family</th>\n",
              "      <th>relationship_ Other-relative</th>\n",
              "      <th>relationship_ Own-child</th>\n",
              "      <th>relationship_ Unmarried</th>\n",
              "      <th>relationship_ Wife</th>\n",
              "      <th>Gender_ Female</th>\n",
              "      <th>Gender_ Male</th>\n",
              "      <th>education_ 10th</th>\n",
              "      <th>education_ 11th</th>\n",
              "      <th>education_ 12th</th>\n",
              "      <th>education_ 1st-4th</th>\n",
              "      <th>education_ 5th-6th</th>\n",
              "      <th>education_ 7th-8th</th>\n",
              "      <th>education_ 9th</th>\n",
              "      <th>education_ Assoc-acdm</th>\n",
              "      <th>education_ Assoc-voc</th>\n",
              "      <th>education_ Bachelors</th>\n",
              "      <th>education_ Doctorate</th>\n",
              "      <th>education_ HS-grad</th>\n",
              "      <th>education_ Masters</th>\n",
              "      <th>education_ Preschool</th>\n",
              "      <th>education_ Prof-school</th>\n",
              "      <th>education_ Some-college</th>\n",
              "      <th>marital-status_ Divorced</th>\n",
              "      <th>marital-status_ Married-AF-spouse</th>\n",
              "      <th>marital-status_ Married-civ-spouse</th>\n",
              "      <th>marital-status_ Married-spouse-absent</th>\n",
              "      <th>marital-status_ Never-married</th>\n",
              "      <th>marital-status_ Separated</th>\n",
              "      <th>marital-status_ Widowed</th>\n",
              "    </tr>\n",
              "  </thead>\n",
              "  <tbody>\n",
              "    <tr>\n",
              "      <th>age</th>\n",
              "      <td>1.000000</td>\n",
              "      <td>-0.115232</td>\n",
              "      <td>0.084987</td>\n",
              "      <td>0.059446</td>\n",
              "      <td>0.020820</td>\n",
              "      <td>0.065330</td>\n",
              "      <td>-0.211414</td>\n",
              "      <td>0.099589</td>\n",
              "      <td>0.197017</td>\n",
              "      <td>-0.042472</td>\n",
              "      <td>0.326545</td>\n",
              "      <td>-0.018319</td>\n",
              "      <td>-0.067532</td>\n",
              "      <td>-0.448779</td>\n",
              "      <td>0.072813</td>\n",
              "      <td>-0.003714</td>\n",
              "      <td>-0.094576</td>\n",
              "      <td>0.094576</td>\n",
              "      <td>0.026747</td>\n",
              "      <td>-0.059274</td>\n",
              "      <td>-0.048971</td>\n",
              "      <td>0.110934</td>\n",
              "      <td>-0.004137</td>\n",
              "      <td>0.087312</td>\n",
              "      <td>0.016284</td>\n",
              "      <td>-0.017570</td>\n",
              "      <td>0.008521</td>\n",
              "      <td>-0.023994</td>\n",
              "      <td>0.056006</td>\n",
              "      <td>0.048391</td>\n",
              "      <td>0.106230</td>\n",
              "      <td>0.047979</td>\n",
              "      <td>0.041350</td>\n",
              "      <td>-0.137083</td>\n",
              "      <td>0.121985</td>\n",
              "      <td>-0.045342</td>\n",
              "      <td>0.316993</td>\n",
              "      <td>0.002370</td>\n",
              "      <td>-0.509349</td>\n",
              "      <td>0.004303</td>\n",
              "      <td>0.252199</td>\n",
              "    </tr>\n",
              "    <tr>\n",
              "      <th>salary</th>\n",
              "      <td>-0.115232</td>\n",
              "      <td>1.000000</td>\n",
              "      <td>-0.039744</td>\n",
              "      <td>-0.033954</td>\n",
              "      <td>0.016538</td>\n",
              "      <td>0.041556</td>\n",
              "      <td>-0.005286</td>\n",
              "      <td>-0.048526</td>\n",
              "      <td>-0.006640</td>\n",
              "      <td>0.043208</td>\n",
              "      <td>-0.068061</td>\n",
              "      <td>-0.009982</td>\n",
              "      <td>0.048295</td>\n",
              "      <td>0.050142</td>\n",
              "      <td>0.044458</td>\n",
              "      <td>-0.007141</td>\n",
              "      <td>0.003753</td>\n",
              "      <td>-0.003753</td>\n",
              "      <td>-0.001010</td>\n",
              "      <td>0.032656</td>\n",
              "      <td>0.022288</td>\n",
              "      <td>0.026060</td>\n",
              "      <td>0.087222</td>\n",
              "      <td>-0.003484</td>\n",
              "      <td>-0.010006</td>\n",
              "      <td>-0.049403</td>\n",
              "      <td>-0.048574</td>\n",
              "      <td>0.026871</td>\n",
              "      <td>0.027369</td>\n",
              "      <td>0.000122</td>\n",
              "      <td>-0.039767</td>\n",
              "      <td>-0.000330</td>\n",
              "      <td>-0.050052</td>\n",
              "      <td>0.003508</td>\n",
              "      <td>-0.031938</td>\n",
              "      <td>0.103903</td>\n",
              "      <td>-0.077728</td>\n",
              "      <td>0.024513</td>\n",
              "      <td>0.052345</td>\n",
              "      <td>0.141943</td>\n",
              "      <td>-0.031278</td>\n",
              "    </tr>\n",
              "    <tr>\n",
              "      <th>hours_per_week</th>\n",
              "      <td>0.084987</td>\n",
              "      <td>-0.039744</td>\n",
              "      <td>1.000000</td>\n",
              "      <td>-0.199754</td>\n",
              "      <td>0.003724</td>\n",
              "      <td>0.034762</td>\n",
              "      <td>-0.003281</td>\n",
              "      <td>0.187396</td>\n",
              "      <td>0.057348</td>\n",
              "      <td>-0.044340</td>\n",
              "      <td>0.240283</td>\n",
              "      <td>0.044955</td>\n",
              "      <td>-0.026307</td>\n",
              "      <td>-0.283118</td>\n",
              "      <td>-0.084558</td>\n",
              "      <td>-0.019636</td>\n",
              "      <td>-0.208244</td>\n",
              "      <td>0.208244</td>\n",
              "      <td>-0.090795</td>\n",
              "      <td>-0.188789</td>\n",
              "      <td>-0.042114</td>\n",
              "      <td>-0.033982</td>\n",
              "      <td>-0.008199</td>\n",
              "      <td>-0.007279</td>\n",
              "      <td>-0.079618</td>\n",
              "      <td>0.027007</td>\n",
              "      <td>-0.003423</td>\n",
              "      <td>0.112869</td>\n",
              "      <td>0.109126</td>\n",
              "      <td>0.019986</td>\n",
              "      <td>0.093606</td>\n",
              "      <td>-0.008756</td>\n",
              "      <td>0.087954</td>\n",
              "      <td>-0.062690</td>\n",
              "      <td>0.080470</td>\n",
              "      <td>-0.039268</td>\n",
              "      <td>0.224152</td>\n",
              "      <td>-0.037562</td>\n",
              "      <td>-0.219006</td>\n",
              "      <td>-0.050452</td>\n",
              "      <td>-0.118284</td>\n",
              "    </tr>\n",
              "    <tr>\n",
              "      <th>employment_type_ ?</th>\n",
              "      <td>0.059446</td>\n",
              "      <td>-0.033954</td>\n",
              "      <td>-0.199754</td>\n",
              "      <td>1.000000</td>\n",
              "      <td>-0.037266</td>\n",
              "      <td>-0.069945</td>\n",
              "      <td>-0.391495</td>\n",
              "      <td>-0.047436</td>\n",
              "      <td>-0.076456</td>\n",
              "      <td>-0.051143</td>\n",
              "      <td>-0.070425</td>\n",
              "      <td>-0.045780</td>\n",
              "      <td>0.068404</td>\n",
              "      <td>0.102439</td>\n",
              "      <td>0.020756</td>\n",
              "      <td>0.003415</td>\n",
              "      <td>0.062837</td>\n",
              "      <td>-0.062837</td>\n",
              "      <td>0.049301</td>\n",
              "      <td>0.082498</td>\n",
              "      <td>0.063703</td>\n",
              "      <td>0.128572</td>\n",
              "      <td>0.012586</td>\n",
              "      <td>0.036622</td>\n",
              "      <td>0.000068</td>\n",
              "      <td>-0.002785</td>\n",
              "      <td>0.022585</td>\n",
              "      <td>-0.092653</td>\n",
              "      <td>-0.031082</td>\n",
              "      <td>-0.056534</td>\n",
              "      <td>-0.024386</td>\n",
              "      <td>-0.011675</td>\n",
              "      <td>-0.026215</td>\n",
              "      <td>0.051306</td>\n",
              "      <td>-0.001350</td>\n",
              "      <td>-0.008252</td>\n",
              "      <td>-0.061714</td>\n",
              "      <td>0.071028</td>\n",
              "      <td>0.026518</td>\n",
              "      <td>-0.044279</td>\n",
              "      <td>0.101240</td>\n",
              "    </tr>\n",
              "    <tr>\n",
              "      <th>employment_type_ Federal-gov</th>\n",
              "      <td>0.020820</td>\n",
              "      <td>0.016538</td>\n",
              "      <td>0.003724</td>\n",
              "      <td>-0.037266</td>\n",
              "      <td>1.000000</td>\n",
              "      <td>-0.039184</td>\n",
              "      <td>-0.219320</td>\n",
              "      <td>-0.026574</td>\n",
              "      <td>-0.042832</td>\n",
              "      <td>-0.028651</td>\n",
              "      <td>-0.008438</td>\n",
              "      <td>0.023893</td>\n",
              "      <td>-0.022917</td>\n",
              "      <td>-0.000946</td>\n",
              "      <td>-0.002971</td>\n",
              "      <td>-0.007392</td>\n",
              "      <td>-0.024069</td>\n",
              "      <td>0.024069</td>\n",
              "      <td>-0.021404</td>\n",
              "      <td>-0.032100</td>\n",
              "      <td>-0.013925</td>\n",
              "      <td>-0.012268</td>\n",
              "      <td>-0.015410</td>\n",
              "      <td>-0.018033</td>\n",
              "      <td>0.038316</td>\n",
              "      <td>0.012017</td>\n",
              "      <td>0.002024</td>\n",
              "      <td>-0.006462</td>\n",
              "      <td>0.043407</td>\n",
              "      <td>-0.020197</td>\n",
              "      <td>0.093056</td>\n",
              "      <td>-0.006541</td>\n",
              "      <td>-0.014686</td>\n",
              "      <td>-0.009648</td>\n",
              "      <td>0.028547</td>\n",
              "      <td>-0.004623</td>\n",
              "      <td>0.000921</td>\n",
              "      <td>-0.018033</td>\n",
              "      <td>0.001648</td>\n",
              "      <td>-0.024806</td>\n",
              "      <td>-0.025703</td>\n",
              "    </tr>\n",
              "  </tbody>\n",
              "</table>\n",
              "</div>"
            ],
            "text/plain": [
              "                                   age  ...  marital-status_ Widowed\n",
              "age                           1.000000  ...                 0.252199\n",
              "salary                       -0.115232  ...                -0.031278\n",
              "hours_per_week                0.084987  ...                -0.118284\n",
              "employment_type_ ?            0.059446  ...                 0.101240\n",
              "employment_type_ Federal-gov  0.020820  ...                -0.025703\n",
              "\n",
              "[5 rows x 41 columns]"
            ]
          },
          "metadata": {
            "tags": []
          },
          "execution_count": 53
        }
      ]
    },
    {
      "cell_type": "code",
      "metadata": {
        "id": "ZJGoRJP6hIfz",
        "colab_type": "code",
        "colab": {
          "base_uri": "https://localhost:8080/",
          "height": 720
        },
        "outputId": "c568c0cd-71f6-4331-a3b2-61fcb400f090"
      },
      "source": [
        "corr_ohe = df_ohe.corr()\n",
        "# Generate a mask for the upper triangle\n",
        "mask = np.zeros_like(corr_ohe, dtype=np.bool)\n",
        "mask[np.triu_indices_from(mask)] = True\n",
        "\n",
        "# Set up the matplotlib figure\n",
        "f, ax = plt.subplots(figsize=(11, 9))\n",
        "\n",
        "# Generate a custom diverging colormap\n",
        "cmap = sns.diverging_palette(220, 10, as_cmap=True)\n",
        "\n",
        "\n",
        "# Draw the heatmap with the mask and correct aspect ratio\n",
        "svm = sns.heatmap(corr_ohe, mask=mask, cmap=cmap, center=0,\n",
        "            square=True, linewidths=.5, cbar_kws={\"shrink\": .5})\n",
        "figure = svm.get_figure()"
      ],
      "execution_count": 54,
      "outputs": [
        {
          "output_type": "display_data",
          "data": {
            "image/png": "[encoded data removed]",
            "text/plain": [
              "<Figure size 792x648 with 2 Axes>"
            ]
          },
          "metadata": {
            "tags": [],
            "needs_background": "light"
          }
        }
      ]
    },
    {
      "cell_type": "markdown",
      "metadata": {
        "id": "S5X0Jk4J5bXx",
        "colab_type": "text"
      },
      "source": [
        "Highly Correlated variables do not help in explaining variance in a Linear Models (Regression) and thus can be removed. It implies that predicting power remains same when either one of the correlated variable is kept in the model\n",
        "\n",
        "The above phenomenon is known as **Multicollinearity**.When variables are perfectly correlated either positively or negatively then Multicollinearity is said to be highest \n",
        "\n",
        "In Trees based model - Decision trees ,Random Forests , Boosting model or  Neural Networks , Multicollinearity does not impact as is taken care of by the models itself\n"
      ]
    }
  ]
}